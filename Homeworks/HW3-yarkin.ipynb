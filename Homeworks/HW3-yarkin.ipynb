{
 "cells": [
  {
   "cell_type": "code",
   "execution_count": 17,
   "metadata": {},
   "outputs": [],
   "source": [
    "#Create 5 students. Ask these Students from the user\n",
    "#Each student should have 3 grades\n",
    "#Passing grade = 0.3midterm + 0.3project + 0.4*final\n",
    "#Dict to keep student infos\n",
    "#Use indexing to transfer their passing grades to the list \n",
    "#Sort the list by their grades"
   ]
  },
  {
   "cell_type": "code",
   "execution_count": 4,
   "metadata": {},
   "outputs": [
    {
     "name": "stdin",
     "output_type": "stream",
     "text": [
      "Give studen name  a\n",
      "\n",
      "Please enter mideterm grade  1\n",
      "\n",
      "Please enter project grade  2\n",
      "\n",
      "Please enter final grade  3\n",
      "Give studen name  b\n",
      "\n",
      "Please enter mideterm grade  4\n",
      "\n",
      "Please enter project grade  5\n",
      "\n",
      "Please enter final grade  6\n",
      "Give studen name  c\n",
      "\n",
      "Please enter mideterm grade  2\n",
      "\n",
      "Please enter project grade  3\n",
      "\n",
      "Please enter final grade  4\n",
      "Give studen name  a\n",
      "\n",
      "Please enter mideterm grade  1\n",
      "\n",
      "Please enter project grade  2\n",
      "\n",
      "Please enter final grade  3\n",
      "Give studen name  y\n",
      "\n",
      "Please enter mideterm grade  4\n",
      "\n",
      "Please enter project grade  5\n",
      "\n",
      "Please enter final grade  6\n"
     ]
    },
    {
     "name": "stdout",
     "output_type": "stream",
     "text": [
      "[{'Name': 'a', 'Grade': 2.1}, {'Name': 'b', 'Grade': 5.1000000000000005}, {'Name': 'c', 'Grade': 3.1}, {'Name': 'a', 'Grade': 2.1}, {'Name': 'y', 'Grade': 5.1000000000000005}]\n",
      "[{'Name': 'b', 'Grade': 5.1000000000000005}, {'Name': 'y', 'Grade': 5.1000000000000005}, {'Name': 'c', 'Grade': 3.1}, {'Name': 'a', 'Grade': 2.1}, {'Name': 'a', 'Grade': 2.1}]\n"
     ]
    }
   ],
   "source": [
    "student_name = [1,2,3,4,5]\n",
    "\n",
    "student_grade = [[1,2,3],[1,2,3],[1,2,3],[1,2,3],[1,2,3]]\n",
    "\n",
    "student_passing_grade = [1,2,3,4,5]\n",
    "\n",
    "student_info=[{},{},{},{},{}]\n",
    "\n",
    "\n",
    "for i in range(5): \n",
    "\n",
    "    student_name[i] = input(\"\\nGive student name \") \n",
    "\n",
    "\n",
    "    student_grade[i][0] = 0.3 * float(input(\"\\nPlease enter mideterm grade \"))\n",
    "\n",
    "    student_grade[i][1] = 0.3 * float(input(\"\\nPlease enter project grade \"))\n",
    "\n",
    "    student_grade[i][2] = 0.4 * float(input(\"\\nPlease enter final grade \"))\n",
    "\n",
    "    student_passing_grade[i] = student_grade[i][0] + student_grade[i][1] + student_grade[i][2]\n",
    "\n",
    "    student_info[i]={\"Name\":student_name[i],\"Grade\":student_passing_grade[i]}\n",
    "\n",
    "print(student_info)\n",
    "\n",
    "student_info.sort(key=lambda x: x.get('Grade'),reverse=True)\n",
    "\n",
    "print(student_info)"
   ]
  },
  {
   "cell_type": "code",
   "execution_count": null,
   "metadata": {},
   "outputs": [],
   "source": []
  }
 ],
 "metadata": {
  "kernelspec": {
   "display_name": "Python 3",
   "language": "python",
   "name": "python3"
  },
  "language_info": {
   "codemirror_mode": {
    "name": "ipython",
    "version": 3
   },
   "file_extension": ".py",
   "mimetype": "text/x-python",
   "name": "python",
   "nbconvert_exporter": "python",
   "pygments_lexer": "ipython3",
   "version": "3.8.3"
  }
 },
 "nbformat": 4,
 "nbformat_minor": 4
}
