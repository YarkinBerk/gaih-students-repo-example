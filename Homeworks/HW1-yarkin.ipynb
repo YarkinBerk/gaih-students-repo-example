{
 "cells": [
  {
   "cell_type": "code",
   "execution_count": 5,
   "metadata": {},
   "outputs": [
    {
     "name": "stdout",
     "output_type": "stream",
     "text": [
      "<class 'int'>\n",
      "<class 'int'>\n",
      "<class 'int'>\n",
      "<class 'int'>\n",
      "<class 'int'>\n",
      "<class 'int'>\n",
      "<class 'int'>\n",
      "<class 'int'>\n",
      "<class 'int'>\n",
      "<class 'int'>\n"
     ]
    }
   ],
   "source": [
    "# Two List, one with odd and one with even,\n",
    "# Merge two lists, Multiply all values in the new list by two\n",
    "# Use a loop to print the data type of all values in the list\n",
    "\n",
    "list_1 = [0,2,4,6,8]\n",
    "list_2 = [1,3,5,7,9]\n",
    "\n",
    "list_3 = list_1 + list_2\n",
    "\n",
    "multiplied_list = [i * 2 for i in list_3]\n",
    "\n",
    "for i in range(len(multiplied_list)):\n",
    "    print(type(multiplied_list[i]))\n",
    "    \n",
    "    \n",
    "    \n"
   ]
  },
  {
   "cell_type": "code",
   "execution_count": null,
   "metadata": {},
   "outputs": [],
   "source": []
  }
 ],
 "metadata": {
  "kernelspec": {
   "display_name": "Python 3",
   "language": "python",
   "name": "python3"
  },
  "language_info": {
   "codemirror_mode": {
    "name": "ipython",
    "version": 3
   },
   "file_extension": ".py",
   "mimetype": "text/x-python",
   "name": "python",
   "nbconvert_exporter": "python",
   "pygments_lexer": "ipython3",
   "version": "3.8.3"
  }
 },
 "nbformat": 4,
 "nbformat_minor": 4
}
