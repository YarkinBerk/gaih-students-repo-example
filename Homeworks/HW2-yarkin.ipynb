{
 "cells": [
  {
   "cell_type": "markdown",
   "metadata": {},
   "source": [
    "## Homework"
   ]
  },
  {
   "cell_type": "code",
   "execution_count": 2,
   "metadata": {},
   "outputs": [
    {
     "name": "stdout",
     "output_type": "stream",
     "text": [
      "{'Name': 'Efe', 'Last Name': 'Akçam', 'Age': '31', 'Job Info': 'Jobless', 'Graduated School': 'TOBB ETU'} \n",
      " {'Name': 'Yarkın', 'Last Name': 'Arıcan', 'Age': '19', 'Job Info': 'Student', 'Graduated School': 'Nazilli Anadolu Lisesi'} \n",
      " {'Name': 'Kaan', 'Last Name': 'Kırcaklı', 'Age': '24', 'Job Info': 'Web Developer', 'Graduated School': 'Trabzon Fen Lisesi'} \n",
      " {'Name': 'Çağan', 'Last Name': 'Irmak', 'Age': '22', 'Job Info': 'Textile Engineer', 'Graduated School': 'ODTU'} \n",
      " {'Name': 'Burak', 'Last Name': 'Yılmaz', 'Age': '25', 'Job Info': 'Computer Engineer', 'Graduated School': 'ITU'} \n",
      "\n"
     ]
    }
   ],
   "source": [
    "# CV app\n",
    "# Create 5 dicts. Each dict should represent a CV\n",
    "# Create a CV containing the info of the 5 created ppl\n",
    "# Print the info on CV2s created on the screen\n",
    "\n",
    "\n",
    "cv0 = {\"Name\":\"Efe\", \"Last Name\" : \"Akçam\" ,\"Age\":\"31\", \"Job Info\":\"Jobless\",\"Graduated School\":\"TOBB ETU\"}\n",
    "\n",
    "cv1 = {\"Name\":\"Yarkın\", \"Last Name\" : \"Arıcan\" ,\"Age\":\"19\", \"Job Info\":\"Student\",\"Graduated School\":\"Nazilli Anadolu Lisesi\"}\n",
    "\n",
    "cv2 = {\"Name\":\"Kaan\", \"Last Name\" : \"Kırcaklı\" ,\"Age\":\"24\", \"Job Info\":\"Web Developer\",\"Graduated School\":\"BAU\"}\n",
    "\n",
    "cv3 = {\"Name\":\"Çağan\", \"Last Name\" : \"Irmak\" ,\"Age\":\"22\", \"Job Info\":\"Textile Engineer\",\"Graduated School\":\"ODTU\"}\n",
    "\n",
    "cv4 = {\"Name\":\"Burak\", \"Last Name\" : \"Yılmaz\" ,\"Age\":\"25\", \"Job Info\":\"Computer Engineer\",\"Graduated School\":\"ITU\"}\n",
    "\n",
    "# imagine learning pyton lmao retards\n",
    "cv_all = {\"cv0\":cv0,\"cv1\":cv1,\"cv2\":cv2,\"cv3\":cv3,\"cv4\":cv4}\n",
    "print(cv_all[\"cv0\"],\"\\n\",cv_all[\"cv1\"],\"\\n\",cv_all[\"cv2\"],\"\\n\",cv_all[\"cv3\"],\"\\n\",cv_all[\"cv4\"],\"\\n\")\n"
   ]
  },
  {
   "cell_type": "code",
   "execution_count": null,
   "metadata": {},
   "outputs": [],
   "source": []
  }
 ],
 "metadata": {
  "kernelspec": {
   "display_name": "Python 3",
   "language": "python",
   "name": "python3"
  },
  "language_info": {
   "codemirror_mode": {
    "name": "ipython",
    "version": 3
   },
   "file_extension": ".py",
   "mimetype": "text/x-python",
   "name": "python",
   "nbconvert_exporter": "python",
   "pygments_lexer": "ipython3",
   "version": "3.8.3"
  }
 },
 "nbformat": 4,
 "nbformat_minor": 4
}
